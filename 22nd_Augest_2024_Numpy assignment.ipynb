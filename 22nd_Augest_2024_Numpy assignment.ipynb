{
 "cells": [
  {
   "cell_type": "markdown",
   "id": "7cdfafe6-4cf1-4ee2-810d-3e654ef79b86",
   "metadata": {},
   "source": [
    "# Numpy assignment "
   ]
  },
  {
   "cell_type": "markdown",
   "id": "140b1424-6064-4df7-bbf3-f4da3e0bd74b",
   "metadata": {},
   "source": [
    "### What is python library ? why do we use python libraries\n",
    "In lamon term library means is collection of book in shelf\n",
    "The library are pre written code in python file which is use to import or reuses again and again\n",
    "We want to save our time to write code again and again that's why we write code put it into file and reuse it and our time is also saved"
   ]
  },
  {
   "cell_type": "markdown",
   "id": "91ea805e-4f5f-4c93-b8d2-9188020cfaad",
   "metadata": {},
   "source": [
    "### Difference between numpy array and list\n",
    "1. Numpy\n",
    "   It is the static contigious allocation of memeory\n",
    "   It store data in static once created cannot change\n",
    "   Once it created the size of numpy can't be expanded\n",
    "   It is homogenous in nature\n",
    "   \n",
    "3. List\n",
    "   It store the data dynamic allocation in memory\n",
    "   The size of list can be expand\n",
    "   It is hetrogenous in nature\n",
    "   Use resizing and vectorization"
   ]
  },
  {
   "cell_type": "code",
   "execution_count": 1,
   "id": "2ed488ce-580c-42a0-bdb5-85edc8f975bd",
   "metadata": {},
   "outputs": [],
   "source": [
    "import numpy as np"
   ]
  },
  {
   "cell_type": "code",
   "execution_count": 2,
   "id": "107b930d-b71b-46e2-aa91-75899fe8e879",
   "metadata": {},
   "outputs": [],
   "source": [
    "array=np.array([[1,2,3,4],[5,6,7,8],[9,10,11,12]])"
   ]
  },
  {
   "cell_type": "code",
   "execution_count": 3,
   "id": "cffe2a25-6e93-4a95-9c9b-1245b672f725",
   "metadata": {},
   "outputs": [
    {
     "data": {
      "text/plain": [
       "(3, 4)"
      ]
     },
     "execution_count": 3,
     "metadata": {},
     "output_type": "execute_result"
    }
   ],
   "source": [
    "array.shape"
   ]
  },
  {
   "cell_type": "code",
   "execution_count": 4,
   "id": "36120fbb-449e-4608-a8e5-465a65b084aa",
   "metadata": {},
   "outputs": [
    {
     "data": {
      "text/plain": [
       "12"
      ]
     },
     "execution_count": 4,
     "metadata": {},
     "output_type": "execute_result"
    }
   ],
   "source": [
    "array.size"
   ]
  },
  {
   "cell_type": "code",
   "execution_count": 5,
   "id": "1e07c044-b252-4c45-bea0-c50066be0d66",
   "metadata": {},
   "outputs": [
    {
     "data": {
      "text/plain": [
       "2"
      ]
     },
     "execution_count": 5,
     "metadata": {},
     "output_type": "execute_result"
    }
   ],
   "source": [
    "array.ndim"
   ]
  },
  {
   "cell_type": "code",
   "execution_count": 6,
   "id": "f9e5b15a-4cb4-4bb6-a9f2-9cb620fa2088",
   "metadata": {},
   "outputs": [
    {
     "data": {
      "text/plain": [
       "array([1, 2, 3, 4])"
      ]
     },
     "execution_count": 6,
     "metadata": {},
     "output_type": "execute_result"
    }
   ],
   "source": [
    "array[0]"
   ]
  },
  {
   "cell_type": "code",
   "execution_count": 7,
   "id": "9fada664-95b6-4160-bb0d-d243ed8b50cb",
   "metadata": {},
   "outputs": [
    {
     "data": {
      "text/plain": [
       "array([[ 1,  2,  3,  4],\n",
       "       [ 5,  6,  7,  8],\n",
       "       [ 9, 10, 11, 12]])"
      ]
     },
     "execution_count": 7,
     "metadata": {},
     "output_type": "execute_result"
    }
   ],
   "source": [
    "array"
   ]
  },
  {
   "cell_type": "code",
   "execution_count": 8,
   "id": "a4bf06da-1ca9-447c-b867-fab573b84652",
   "metadata": {},
   "outputs": [
    {
     "data": {
      "text/plain": [
       "np.int64(12)"
      ]
     },
     "execution_count": 8,
     "metadata": {},
     "output_type": "execute_result"
    }
   ],
   "source": [
    "array[2][3]"
   ]
  },
  {
   "cell_type": "code",
   "execution_count": 9,
   "id": "e21284f2-6fde-4659-9392-4fe4c9a4fcd4",
   "metadata": {},
   "outputs": [
    {
     "data": {
      "text/plain": [
       "array([ 1,  3,  5,  7,  9, 11])"
      ]
     },
     "execution_count": 9,
     "metadata": {},
     "output_type": "execute_result"
    }
   ],
   "source": [
    "array[array%2!=0]"
   ]
  },
  {
   "cell_type": "code",
   "execution_count": 30,
   "id": "e960b919-40d7-4135-8733-5288dbde818c",
   "metadata": {},
   "outputs": [],
   "source": [
    "matrix=np.random.randint(0,2,(3,3))"
   ]
  },
  {
   "cell_type": "code",
   "execution_count": 31,
   "id": "ed1c7ae5-86ee-4aee-882b-5e35b97303c0",
   "metadata": {},
   "outputs": [
    {
     "data": {
      "text/plain": [
       "array([[0, 0, 1],\n",
       "       [1, 0, 1],\n",
       "       [1, 1, 1]], dtype=int32)"
      ]
     },
     "execution_count": 31,
     "metadata": {},
     "output_type": "execute_result"
    }
   ],
   "source": [
    "matrix"
   ]
  },
  {
   "cell_type": "code",
   "execution_count": 27,
   "id": "fb5eda08-59d8-4bbf-8616-3748803bc86a",
   "metadata": {},
   "outputs": [],
   "source": [
    "# matrix=np.random.randn()\n",
    "matrix=np.random.random(3)"
   ]
  },
  {
   "cell_type": "code",
   "execution_count": 28,
   "id": "2eb6b80e-4df8-4763-b5e8-1c1c2de8e6ca",
   "metadata": {},
   "outputs": [
    {
     "data": {
      "text/plain": [
       "array([0.65456123, 0.10354694, 0.15932524])"
      ]
     },
     "execution_count": 28,
     "metadata": {},
     "output_type": "execute_result"
    }
   ],
   "source": [
    "matrix"
   ]
  },
  {
   "cell_type": "code",
   "execution_count": 32,
   "id": "87596b9d-3f8c-4f1f-afc6-7ffa4b7cee07",
   "metadata": {},
   "outputs": [],
   "source": [
    "matrix=np.random.rand(3,3)"
   ]
  },
  {
   "cell_type": "code",
   "execution_count": 33,
   "id": "5255ace6-822c-458d-a03e-be3f1353a944",
   "metadata": {},
   "outputs": [
    {
     "data": {
      "text/plain": [
       "array([[0.76052015, 0.02773461, 0.91844345],\n",
       "       [0.5857454 , 0.52189458, 0.16613989],\n",
       "       [0.39216737, 0.83687639, 0.37290579]])"
      ]
     },
     "execution_count": 33,
     "metadata": {},
     "output_type": "execute_result"
    }
   ],
   "source": [
    "matrix"
   ]
  },
  {
   "cell_type": "code",
   "execution_count": 36,
   "id": "c90c1d02-fcad-4cc4-80b3-db2b531e7881",
   "metadata": {},
   "outputs": [
    {
     "data": {
      "text/plain": [
       "array([[ 0.6121681 , -0.31488052, -0.30958582, -0.09043108, -0.34809046,\n",
       "        -0.79433237,  0.27417699]])"
      ]
     },
     "execution_count": 36,
     "metadata": {},
     "output_type": "execute_result"
    }
   ],
   "source": [
    "np.random.randn(1,7)"
   ]
  },
  {
   "cell_type": "code",
   "execution_count": 37,
   "id": "f3f05cb9-3560-4068-9b31-cfc35c75783e",
   "metadata": {},
   "outputs": [
    {
     "data": {
      "text/plain": [
       "array([[0.41785814, 0.86702922, 0.95132738, 0.9448713 , 0.2433278 ,\n",
       "        0.50316162, 0.45088626]])"
      ]
     },
     "execution_count": 37,
     "metadata": {},
     "output_type": "execute_result"
    }
   ],
   "source": [
    "np.random.rand(1,7)"
   ]
  },
  {
   "cell_type": "markdown",
   "id": "35efe3ed-b147-46e7-8c04-fb8472bb66b7",
   "metadata": {},
   "source": [
    "### np.random.randn(1,7) # it generate gaussian distribution \n",
    "### np.random.rand(1,7), it generate random number between 0 to 1 "
   ]
  },
  {
   "cell_type": "code",
   "execution_count": 38,
   "id": "a611f0e7-ab00-4261-83cb-9718102598d3",
   "metadata": {},
   "outputs": [],
   "source": [
    "Matrix1=np.array([[1,2,3,4],[5,6,7,8],[9,10,11,12]])\n",
    "Matrix2=np.array([[1,2,3,4],[5,6,7,8],[9,10,11,12]])"
   ]
  },
  {
   "cell_type": "code",
   "execution_count": 39,
   "id": "9ffb4e78-292d-4a48-a82f-edd3e9f31ab5",
   "metadata": {},
   "outputs": [
    {
     "data": {
      "text/plain": [
       "array([[ 2,  4,  6,  8],\n",
       "       [10, 12, 14, 16],\n",
       "       [18, 20, 22, 24]])"
      ]
     },
     "execution_count": 39,
     "metadata": {},
     "output_type": "execute_result"
    }
   ],
   "source": [
    "Matrix1 + Matrix2"
   ]
  },
  {
   "cell_type": "code",
   "execution_count": 40,
   "id": "d2aba864-585b-45b1-84de-ef936416a499",
   "metadata": {},
   "outputs": [
    {
     "data": {
      "text/plain": [
       "array([[0, 0, 0, 0],\n",
       "       [0, 0, 0, 0],\n",
       "       [0, 0, 0, 0]])"
      ]
     },
     "execution_count": 40,
     "metadata": {},
     "output_type": "execute_result"
    }
   ],
   "source": [
    "Matrix1 - Matrix2"
   ]
  },
  {
   "cell_type": "code",
   "execution_count": 41,
   "id": "17091da6-2f5a-4b06-a264-a2933466863a",
   "metadata": {},
   "outputs": [
    {
     "data": {
      "text/plain": [
       "array([[  1,   4,   9,  16],\n",
       "       [ 25,  36,  49,  64],\n",
       "       [ 81, 100, 121, 144]])"
      ]
     },
     "execution_count": 41,
     "metadata": {},
     "output_type": "execute_result"
    }
   ],
   "source": [
    "Matrix1 * Matrix2"
   ]
  },
  {
   "cell_type": "code",
   "execution_count": 43,
   "id": "30b53ff9-6191-4c60-923e-232991f83812",
   "metadata": {},
   "outputs": [
    {
     "data": {
      "text/plain": [
       "array([[1., 1., 1., 1.],\n",
       "       [1., 1., 1., 1.],\n",
       "       [1., 1., 1., 1.]])"
      ]
     },
     "execution_count": 43,
     "metadata": {},
     "output_type": "execute_result"
    }
   ],
   "source": [
    "Matrix2 / Matrix1"
   ]
  },
  {
   "cell_type": "code",
   "execution_count": 48,
   "id": "ccb5e02c-419c-4476-8cb0-9cda43463066",
   "metadata": {},
   "outputs": [],
   "source": [
    "# Matrix1 @ Matrix2  will rase error because it will have some shape difference"
   ]
  },
  {
   "cell_type": "code",
   "execution_count": 45,
   "id": "986f84f6-7263-4be4-8686-18a9f6f13ee0",
   "metadata": {},
   "outputs": [
    {
     "data": {
      "text/plain": [
       "array([[ 1,  2,  3,  4],\n",
       "       [ 5,  6,  7,  8],\n",
       "       [ 9, 10, 11, 12]])"
      ]
     },
     "execution_count": 45,
     "metadata": {},
     "output_type": "execute_result"
    }
   ],
   "source": [
    "Matrix1"
   ]
  },
  {
   "cell_type": "code",
   "execution_count": 46,
   "id": "38d0d77c-cadd-4b24-a745-4fc27006e08d",
   "metadata": {},
   "outputs": [
    {
     "data": {
      "text/plain": [
       "array([[ 1,  2,  3,  4],\n",
       "       [ 5,  6,  7,  8],\n",
       "       [ 9, 10, 11, 12]])"
      ]
     },
     "execution_count": 46,
     "metadata": {},
     "output_type": "execute_result"
    }
   ],
   "source": [
    "Matrix2"
   ]
  },
  {
   "cell_type": "code",
   "execution_count": 47,
   "id": "575d6d79-850c-4518-b7e1-793fcb08d0cd",
   "metadata": {},
   "outputs": [
    {
     "data": {
      "text/plain": [
       "array([[ 30,  70, 110],\n",
       "       [ 70, 174, 278],\n",
       "       [110, 278, 446]])"
      ]
     },
     "execution_count": 47,
     "metadata": {},
     "output_type": "execute_result"
    }
   ],
   "source": [
    "Matrix1 @ Matrix2.T"
   ]
  },
  {
   "cell_type": "code",
   "execution_count": 52,
   "id": "a98de56e-1e33-46ed-bc72-7c23148fa99a",
   "metadata": {},
   "outputs": [],
   "source": [
    "# array.swapaxes(axis=0\n"
   ]
  },
  {
   "cell_type": "code",
   "execution_count": 53,
   "id": "bd4cbee3-5e04-4f9d-b830-8bd0211f9210",
   "metadata": {},
   "outputs": [],
   "source": [
    "# 12. which function of numpy can be used to swap the byter order of an ar"
   ]
  },
  {
   "cell_type": "markdown",
   "id": "3ebe0e55-b74b-428a-95ba-5b929639dffa",
   "metadata": {},
   "source": [
    "## In NumPy, you can use the byteswap() function to swap the byte order of an array's elements."
   ]
  },
  {
   "cell_type": "markdown",
   "id": "1acb7791-0875-4853-b336-aafb1e024dc9",
   "metadata": {},
   "source": [
    "### 13. significan of np.linalg library\n",
    "The NumPy linear algebra functions rely on BLAS and LAPACK to provide efficient\n",
    "low level implementations of standard linear algebra algorithms\n"
   ]
  },
  {
   "cell_type": "code",
   "execution_count": 64,
   "id": "b13c4bcb-dc53-4943-9dc3-30cc64fa41ad",
   "metadata": {},
   "outputs": [
    {
     "name": "stdout",
     "output_type": "stream",
     "text": [
      "[256   1]\n"
     ]
    }
   ],
   "source": [
    "import numpy as np\n",
    "\n",
    "arr = np.array([1, 256], dtype=np.int16)\n",
    "\n",
    "# Swap the byte order (in-place)\n",
    "arr.byteswap(inplace=True)\n",
    "\n",
    "print(arr) "
   ]
  },
  {
   "cell_type": "markdown",
   "id": "0ac040cd-242e-42e3-8523-a39626be9ecc",
   "metadata": {},
   "source": [
    "### 14. np.reshape use of this\n",
    "it reshape the array only when the multiplication of rows and column = size of array\n",
    "example\n",
    "array([[1., 1., 1.],\n",
    "       [1., 1., 1.],\n",
    "       [1., 1., 1.]])\n",
    "it reshape to 1 x 9 or  x 1 or 3 x 3 but it cannot reshape to  2 x 6 or 2 x 9 otherwise it raise the error"
   ]
  },
  {
   "cell_type": "code",
   "execution_count": 65,
   "id": "64cdd3cb-c396-4266-91d2-6b26c6c2f19c",
   "metadata": {},
   "outputs": [],
   "source": [
    "array=np.ones((3,3))"
   ]
  },
  {
   "cell_type": "code",
   "execution_count": 66,
   "id": "9cc24e3d-354e-45d4-889d-e1b0989c15bc",
   "metadata": {},
   "outputs": [
    {
     "data": {
      "text/plain": [
       "array([[1., 1., 1., 1., 1., 1., 1., 1., 1.]])"
      ]
     },
     "execution_count": 66,
     "metadata": {},
     "output_type": "execute_result"
    }
   ],
   "source": [
    "array.reshape(1,9)"
   ]
  },
  {
   "cell_type": "markdown",
   "id": "7153c2a2-f776-4b16-8765-622819f3ddfd",
   "metadata": {},
   "source": [
    "### Broadcasting in numpy\n",
    "Performing the arathematic operation on each and every element of array this process is called broadcasting of array\n",
    "array=np.ones((3,3))\n",
    "array([[1., 1., 1.],\n",
    "       [1., 1., 1.],\n",
    "       [1., 1., 1.]])\n",
    "to convert all value to 5 we should multiply it by 5 like this\n",
    "array=array*5\n",
    "array([[5., 5., 5.],\n",
    "       [5., 5., 5.],\n",
    "       [5., 5., 5.]])\n"
   ]
  },
  {
   "cell_type": "code",
   "execution_count": 67,
   "id": "94ff29dc-0589-4c17-8013-49c5a019645c",
   "metadata": {},
   "outputs": [
    {
     "data": {
      "text/plain": [
       "array([[5., 5., 5.],\n",
       "       [5., 5., 5.],\n",
       "       [5., 5., 5.]])"
      ]
     },
     "execution_count": 67,
     "metadata": {},
     "output_type": "execute_result"
    }
   ],
   "source": [
    "# convert each and every value in array\n",
    "array*5"
   ]
  },
  {
   "cell_type": "markdown",
   "id": "cc5f2870-7a45-420e-83fe-fba6a5ef97f9",
   "metadata": {},
   "source": []
  },
  {
   "cell_type": "code",
   "execution_count": null,
   "id": "909acf87-077c-47d9-9717-60ec703076ef",
   "metadata": {},
   "outputs": [],
   "source": []
  },
  {
   "cell_type": "code",
   "execution_count": null,
   "id": "54eca08c-2f2c-4269-81ba-3c9d503c77fe",
   "metadata": {},
   "outputs": [],
   "source": []
  }
 ],
 "metadata": {
  "kernelspec": {
   "display_name": "Python 3 (ipykernel)",
   "language": "python",
   "name": "python3"
  },
  "language_info": {
   "codemirror_mode": {
    "name": "ipython",
    "version": 3
   },
   "file_extension": ".py",
   "mimetype": "text/x-python",
   "name": "python",
   "nbconvert_exporter": "python",
   "pygments_lexer": "ipython3",
   "version": "3.12.0"
  }
 },
 "nbformat": 4,
 "nbformat_minor": 5
}
